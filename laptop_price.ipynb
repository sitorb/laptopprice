{
  "nbformat": 4,
  "nbformat_minor": 0,
  "metadata": {
    "colab": {
      "provenance": []
    },
    "kernelspec": {
      "name": "python3",
      "display_name": "Python 3"
    },
    "language_info": {
      "name": "python"
    }
  },
  "cells": [
    {
      "cell_type": "code",
      "execution_count": null,
      "metadata": {
        "id": "Dp49tk63seEn"
      },
      "outputs": [],
      "source": [
        "import pandas as pd\n",
        "import numpy as np\n",
        "from sklearn.model_selection import train_test_split, GridSearchCV, RandomizedSearchCV\n",
        "from sklearn.svm import SVC, SVR\n",
        "from sklearn.metrics import classification_report, accuracy_score, mean_squared_error\n",
        "from sklearn.preprocessing import StandardScaler, LabelEncoder"
      ]
    },
    {
      "cell_type": "markdown",
      "source": [
        "loading the dataset"
      ],
      "metadata": {
        "id": "VMujN1eAt4Hd"
      }
    },
    {
      "cell_type": "code",
      "source": [
        "data = pd.read_csv('laptopPrice.csv')"
      ],
      "metadata": {
        "id": "XmUyn2UItvH-"
      },
      "execution_count": null,
      "outputs": []
    },
    {
      "cell_type": "code",
      "source": [
        "data"
      ],
      "metadata": {
        "colab": {
          "base_uri": "https://localhost:8080/",
          "height": 652
        },
        "id": "5BIIBfuVt_Z5",
        "outputId": "7830aad3-bbc3-451d-9a06-8ca19959f689"
      },
      "execution_count": null,
      "outputs": [
        {
          "output_type": "execute_result",
          "data": {
            "text/plain": [
              "      brand processor_brand processor_name  ...   rating Number of Ratings Number of Reviews\n",
              "0      ASUS           Intel        Core i3  ...  2 stars                 3                 0\n",
              "1    Lenovo           Intel        Core i3  ...  3 stars                65                 5\n",
              "2    Lenovo           Intel        Core i3  ...  3 stars                 8                 1\n",
              "3      ASUS           Intel        Core i5  ...  3 stars                 0                 0\n",
              "4      ASUS           Intel   Celeron Dual  ...  3 stars                 0                 0\n",
              "..      ...             ...            ...  ...      ...               ...               ...\n",
              "818    ASUS             AMD        Ryzen 9  ...  3 stars                 0                 0\n",
              "819    ASUS             AMD        Ryzen 9  ...  3 stars                 0                 0\n",
              "820    ASUS             AMD        Ryzen 9  ...  3 stars                 0                 0\n",
              "821    ASUS             AMD        Ryzen 9  ...  3 stars                 0                 0\n",
              "822  Lenovo             AMD        Ryzen 5  ...  4 stars                18                 4\n",
              "\n",
              "[823 rows x 19 columns]"
            ],
            "text/html": [
              "\n",
              "  <div id=\"df-1c3be9d2-f986-4714-8f42-2c7ccb1f12c3\" class=\"colab-df-container\">\n",
              "    <div>\n",
              "<style scoped>\n",
              "    .dataframe tbody tr th:only-of-type {\n",
              "        vertical-align: middle;\n",
              "    }\n",
              "\n",
              "    .dataframe tbody tr th {\n",
              "        vertical-align: top;\n",
              "    }\n",
              "\n",
              "    .dataframe thead th {\n",
              "        text-align: right;\n",
              "    }\n",
              "</style>\n",
              "<table border=\"1\" class=\"dataframe\">\n",
              "  <thead>\n",
              "    <tr style=\"text-align: right;\">\n",
              "      <th></th>\n",
              "      <th>brand</th>\n",
              "      <th>processor_brand</th>\n",
              "      <th>processor_name</th>\n",
              "      <th>processor_gnrtn</th>\n",
              "      <th>ram_gb</th>\n",
              "      <th>ram_type</th>\n",
              "      <th>ssd</th>\n",
              "      <th>hdd</th>\n",
              "      <th>os</th>\n",
              "      <th>os_bit</th>\n",
              "      <th>graphic_card_gb</th>\n",
              "      <th>weight</th>\n",
              "      <th>warranty</th>\n",
              "      <th>Touchscreen</th>\n",
              "      <th>msoffice</th>\n",
              "      <th>Price</th>\n",
              "      <th>rating</th>\n",
              "      <th>Number of Ratings</th>\n",
              "      <th>Number of Reviews</th>\n",
              "    </tr>\n",
              "  </thead>\n",
              "  <tbody>\n",
              "    <tr>\n",
              "      <th>0</th>\n",
              "      <td>ASUS</td>\n",
              "      <td>Intel</td>\n",
              "      <td>Core i3</td>\n",
              "      <td>10th</td>\n",
              "      <td>4 GB</td>\n",
              "      <td>DDR4</td>\n",
              "      <td>0 GB</td>\n",
              "      <td>1024 GB</td>\n",
              "      <td>Windows</td>\n",
              "      <td>64-bit</td>\n",
              "      <td>0 GB</td>\n",
              "      <td>Casual</td>\n",
              "      <td>No warranty</td>\n",
              "      <td>No</td>\n",
              "      <td>No</td>\n",
              "      <td>34649</td>\n",
              "      <td>2 stars</td>\n",
              "      <td>3</td>\n",
              "      <td>0</td>\n",
              "    </tr>\n",
              "    <tr>\n",
              "      <th>1</th>\n",
              "      <td>Lenovo</td>\n",
              "      <td>Intel</td>\n",
              "      <td>Core i3</td>\n",
              "      <td>10th</td>\n",
              "      <td>4 GB</td>\n",
              "      <td>DDR4</td>\n",
              "      <td>0 GB</td>\n",
              "      <td>1024 GB</td>\n",
              "      <td>Windows</td>\n",
              "      <td>64-bit</td>\n",
              "      <td>0 GB</td>\n",
              "      <td>Casual</td>\n",
              "      <td>No warranty</td>\n",
              "      <td>No</td>\n",
              "      <td>No</td>\n",
              "      <td>38999</td>\n",
              "      <td>3 stars</td>\n",
              "      <td>65</td>\n",
              "      <td>5</td>\n",
              "    </tr>\n",
              "    <tr>\n",
              "      <th>2</th>\n",
              "      <td>Lenovo</td>\n",
              "      <td>Intel</td>\n",
              "      <td>Core i3</td>\n",
              "      <td>10th</td>\n",
              "      <td>4 GB</td>\n",
              "      <td>DDR4</td>\n",
              "      <td>0 GB</td>\n",
              "      <td>1024 GB</td>\n",
              "      <td>Windows</td>\n",
              "      <td>64-bit</td>\n",
              "      <td>0 GB</td>\n",
              "      <td>Casual</td>\n",
              "      <td>No warranty</td>\n",
              "      <td>No</td>\n",
              "      <td>No</td>\n",
              "      <td>39999</td>\n",
              "      <td>3 stars</td>\n",
              "      <td>8</td>\n",
              "      <td>1</td>\n",
              "    </tr>\n",
              "    <tr>\n",
              "      <th>3</th>\n",
              "      <td>ASUS</td>\n",
              "      <td>Intel</td>\n",
              "      <td>Core i5</td>\n",
              "      <td>10th</td>\n",
              "      <td>8 GB</td>\n",
              "      <td>DDR4</td>\n",
              "      <td>512 GB</td>\n",
              "      <td>0 GB</td>\n",
              "      <td>Windows</td>\n",
              "      <td>32-bit</td>\n",
              "      <td>2 GB</td>\n",
              "      <td>Casual</td>\n",
              "      <td>No warranty</td>\n",
              "      <td>No</td>\n",
              "      <td>No</td>\n",
              "      <td>69990</td>\n",
              "      <td>3 stars</td>\n",
              "      <td>0</td>\n",
              "      <td>0</td>\n",
              "    </tr>\n",
              "    <tr>\n",
              "      <th>4</th>\n",
              "      <td>ASUS</td>\n",
              "      <td>Intel</td>\n",
              "      <td>Celeron Dual</td>\n",
              "      <td>Not Available</td>\n",
              "      <td>4 GB</td>\n",
              "      <td>DDR4</td>\n",
              "      <td>0 GB</td>\n",
              "      <td>512 GB</td>\n",
              "      <td>Windows</td>\n",
              "      <td>64-bit</td>\n",
              "      <td>0 GB</td>\n",
              "      <td>Casual</td>\n",
              "      <td>No warranty</td>\n",
              "      <td>No</td>\n",
              "      <td>No</td>\n",
              "      <td>26990</td>\n",
              "      <td>3 stars</td>\n",
              "      <td>0</td>\n",
              "      <td>0</td>\n",
              "    </tr>\n",
              "    <tr>\n",
              "      <th>...</th>\n",
              "      <td>...</td>\n",
              "      <td>...</td>\n",
              "      <td>...</td>\n",
              "      <td>...</td>\n",
              "      <td>...</td>\n",
              "      <td>...</td>\n",
              "      <td>...</td>\n",
              "      <td>...</td>\n",
              "      <td>...</td>\n",
              "      <td>...</td>\n",
              "      <td>...</td>\n",
              "      <td>...</td>\n",
              "      <td>...</td>\n",
              "      <td>...</td>\n",
              "      <td>...</td>\n",
              "      <td>...</td>\n",
              "      <td>...</td>\n",
              "      <td>...</td>\n",
              "      <td>...</td>\n",
              "    </tr>\n",
              "    <tr>\n",
              "      <th>818</th>\n",
              "      <td>ASUS</td>\n",
              "      <td>AMD</td>\n",
              "      <td>Ryzen 9</td>\n",
              "      <td>Not Available</td>\n",
              "      <td>4 GB</td>\n",
              "      <td>DDR4</td>\n",
              "      <td>1024 GB</td>\n",
              "      <td>0 GB</td>\n",
              "      <td>Windows</td>\n",
              "      <td>64-bit</td>\n",
              "      <td>0 GB</td>\n",
              "      <td>Casual</td>\n",
              "      <td>1 year</td>\n",
              "      <td>No</td>\n",
              "      <td>No</td>\n",
              "      <td>135990</td>\n",
              "      <td>3 stars</td>\n",
              "      <td>0</td>\n",
              "      <td>0</td>\n",
              "    </tr>\n",
              "    <tr>\n",
              "      <th>819</th>\n",
              "      <td>ASUS</td>\n",
              "      <td>AMD</td>\n",
              "      <td>Ryzen 9</td>\n",
              "      <td>Not Available</td>\n",
              "      <td>4 GB</td>\n",
              "      <td>DDR4</td>\n",
              "      <td>1024 GB</td>\n",
              "      <td>0 GB</td>\n",
              "      <td>Windows</td>\n",
              "      <td>64-bit</td>\n",
              "      <td>0 GB</td>\n",
              "      <td>Casual</td>\n",
              "      <td>1 year</td>\n",
              "      <td>No</td>\n",
              "      <td>No</td>\n",
              "      <td>144990</td>\n",
              "      <td>3 stars</td>\n",
              "      <td>0</td>\n",
              "      <td>0</td>\n",
              "    </tr>\n",
              "    <tr>\n",
              "      <th>820</th>\n",
              "      <td>ASUS</td>\n",
              "      <td>AMD</td>\n",
              "      <td>Ryzen 9</td>\n",
              "      <td>Not Available</td>\n",
              "      <td>4 GB</td>\n",
              "      <td>DDR4</td>\n",
              "      <td>1024 GB</td>\n",
              "      <td>0 GB</td>\n",
              "      <td>Windows</td>\n",
              "      <td>64-bit</td>\n",
              "      <td>4 GB</td>\n",
              "      <td>Casual</td>\n",
              "      <td>1 year</td>\n",
              "      <td>No</td>\n",
              "      <td>No</td>\n",
              "      <td>149990</td>\n",
              "      <td>3 stars</td>\n",
              "      <td>0</td>\n",
              "      <td>0</td>\n",
              "    </tr>\n",
              "    <tr>\n",
              "      <th>821</th>\n",
              "      <td>ASUS</td>\n",
              "      <td>AMD</td>\n",
              "      <td>Ryzen 9</td>\n",
              "      <td>Not Available</td>\n",
              "      <td>4 GB</td>\n",
              "      <td>DDR4</td>\n",
              "      <td>1024 GB</td>\n",
              "      <td>0 GB</td>\n",
              "      <td>Windows</td>\n",
              "      <td>64-bit</td>\n",
              "      <td>4 GB</td>\n",
              "      <td>Casual</td>\n",
              "      <td>1 year</td>\n",
              "      <td>No</td>\n",
              "      <td>No</td>\n",
              "      <td>142990</td>\n",
              "      <td>3 stars</td>\n",
              "      <td>0</td>\n",
              "      <td>0</td>\n",
              "    </tr>\n",
              "    <tr>\n",
              "      <th>822</th>\n",
              "      <td>Lenovo</td>\n",
              "      <td>AMD</td>\n",
              "      <td>Ryzen 5</td>\n",
              "      <td>10th</td>\n",
              "      <td>8 GB</td>\n",
              "      <td>DDR4</td>\n",
              "      <td>512 GB</td>\n",
              "      <td>0 GB</td>\n",
              "      <td>DOS</td>\n",
              "      <td>64-bit</td>\n",
              "      <td>0 GB</td>\n",
              "      <td>ThinNlight</td>\n",
              "      <td>No warranty</td>\n",
              "      <td>No</td>\n",
              "      <td>No</td>\n",
              "      <td>57490</td>\n",
              "      <td>4 stars</td>\n",
              "      <td>18</td>\n",
              "      <td>4</td>\n",
              "    </tr>\n",
              "  </tbody>\n",
              "</table>\n",
              "<p>823 rows × 19 columns</p>\n",
              "</div>\n",
              "    <div class=\"colab-df-buttons\">\n",
              "\n",
              "  <div class=\"colab-df-container\">\n",
              "    <button class=\"colab-df-convert\" onclick=\"convertToInteractive('df-1c3be9d2-f986-4714-8f42-2c7ccb1f12c3')\"\n",
              "            title=\"Convert this dataframe to an interactive table.\"\n",
              "            style=\"display:none;\">\n",
              "\n",
              "  <svg xmlns=\"http://www.w3.org/2000/svg\" height=\"24px\" viewBox=\"0 -960 960 960\">\n",
              "    <path d=\"M120-120v-720h720v720H120Zm60-500h600v-160H180v160Zm220 220h160v-160H400v160Zm0 220h160v-160H400v160ZM180-400h160v-160H180v160Zm440 0h160v-160H620v160ZM180-180h160v-160H180v160Zm440 0h160v-160H620v160Z\"/>\n",
              "  </svg>\n",
              "    </button>\n",
              "\n",
              "  <style>\n",
              "    .colab-df-container {\n",
              "      display:flex;\n",
              "      gap: 12px;\n",
              "    }\n",
              "\n",
              "    .colab-df-convert {\n",
              "      background-color: #E8F0FE;\n",
              "      border: none;\n",
              "      border-radius: 50%;\n",
              "      cursor: pointer;\n",
              "      display: none;\n",
              "      fill: #1967D2;\n",
              "      height: 32px;\n",
              "      padding: 0 0 0 0;\n",
              "      width: 32px;\n",
              "    }\n",
              "\n",
              "    .colab-df-convert:hover {\n",
              "      background-color: #E2EBFA;\n",
              "      box-shadow: 0px 1px 2px rgba(60, 64, 67, 0.3), 0px 1px 3px 1px rgba(60, 64, 67, 0.15);\n",
              "      fill: #174EA6;\n",
              "    }\n",
              "\n",
              "    .colab-df-buttons div {\n",
              "      margin-bottom: 4px;\n",
              "    }\n",
              "\n",
              "    [theme=dark] .colab-df-convert {\n",
              "      background-color: #3B4455;\n",
              "      fill: #D2E3FC;\n",
              "    }\n",
              "\n",
              "    [theme=dark] .colab-df-convert:hover {\n",
              "      background-color: #434B5C;\n",
              "      box-shadow: 0px 1px 3px 1px rgba(0, 0, 0, 0.15);\n",
              "      filter: drop-shadow(0px 1px 2px rgba(0, 0, 0, 0.3));\n",
              "      fill: #FFFFFF;\n",
              "    }\n",
              "  </style>\n",
              "\n",
              "    <script>\n",
              "      const buttonEl =\n",
              "        document.querySelector('#df-1c3be9d2-f986-4714-8f42-2c7ccb1f12c3 button.colab-df-convert');\n",
              "      buttonEl.style.display =\n",
              "        google.colab.kernel.accessAllowed ? 'block' : 'none';\n",
              "\n",
              "      async function convertToInteractive(key) {\n",
              "        const element = document.querySelector('#df-1c3be9d2-f986-4714-8f42-2c7ccb1f12c3');\n",
              "        const dataTable =\n",
              "          await google.colab.kernel.invokeFunction('convertToInteractive',\n",
              "                                                    [key], {});\n",
              "        if (!dataTable) return;\n",
              "\n",
              "        const docLinkHtml = 'Like what you see? Visit the ' +\n",
              "          '<a target=\"_blank\" href=https://colab.research.google.com/notebooks/data_table.ipynb>data table notebook</a>'\n",
              "          + ' to learn more about interactive tables.';\n",
              "        element.innerHTML = '';\n",
              "        dataTable['output_type'] = 'display_data';\n",
              "        await google.colab.output.renderOutput(dataTable, element);\n",
              "        const docLink = document.createElement('div');\n",
              "        docLink.innerHTML = docLinkHtml;\n",
              "        element.appendChild(docLink);\n",
              "      }\n",
              "    </script>\n",
              "  </div>\n",
              "\n",
              "\n",
              "<div id=\"df-4105baa8-7da7-4f6f-9a77-ccbd93ce1d57\">\n",
              "  <button class=\"colab-df-quickchart\" onclick=\"quickchart('df-4105baa8-7da7-4f6f-9a77-ccbd93ce1d57')\"\n",
              "            title=\"Suggest charts\"\n",
              "            style=\"display:none;\">\n",
              "\n",
              "<svg xmlns=\"http://www.w3.org/2000/svg\" height=\"24px\"viewBox=\"0 0 24 24\"\n",
              "     width=\"24px\">\n",
              "    <g>\n",
              "        <path d=\"M19 3H5c-1.1 0-2 .9-2 2v14c0 1.1.9 2 2 2h14c1.1 0 2-.9 2-2V5c0-1.1-.9-2-2-2zM9 17H7v-7h2v7zm4 0h-2V7h2v10zm4 0h-2v-4h2v4z\"/>\n",
              "    </g>\n",
              "</svg>\n",
              "  </button>\n",
              "\n",
              "<style>\n",
              "  .colab-df-quickchart {\n",
              "      --bg-color: #E8F0FE;\n",
              "      --fill-color: #1967D2;\n",
              "      --hover-bg-color: #E2EBFA;\n",
              "      --hover-fill-color: #174EA6;\n",
              "      --disabled-fill-color: #AAA;\n",
              "      --disabled-bg-color: #DDD;\n",
              "  }\n",
              "\n",
              "  [theme=dark] .colab-df-quickchart {\n",
              "      --bg-color: #3B4455;\n",
              "      --fill-color: #D2E3FC;\n",
              "      --hover-bg-color: #434B5C;\n",
              "      --hover-fill-color: #FFFFFF;\n",
              "      --disabled-bg-color: #3B4455;\n",
              "      --disabled-fill-color: #666;\n",
              "  }\n",
              "\n",
              "  .colab-df-quickchart {\n",
              "    background-color: var(--bg-color);\n",
              "    border: none;\n",
              "    border-radius: 50%;\n",
              "    cursor: pointer;\n",
              "    display: none;\n",
              "    fill: var(--fill-color);\n",
              "    height: 32px;\n",
              "    padding: 0;\n",
              "    width: 32px;\n",
              "  }\n",
              "\n",
              "  .colab-df-quickchart:hover {\n",
              "    background-color: var(--hover-bg-color);\n",
              "    box-shadow: 0 1px 2px rgba(60, 64, 67, 0.3), 0 1px 3px 1px rgba(60, 64, 67, 0.15);\n",
              "    fill: var(--button-hover-fill-color);\n",
              "  }\n",
              "\n",
              "  .colab-df-quickchart-complete:disabled,\n",
              "  .colab-df-quickchart-complete:disabled:hover {\n",
              "    background-color: var(--disabled-bg-color);\n",
              "    fill: var(--disabled-fill-color);\n",
              "    box-shadow: none;\n",
              "  }\n",
              "\n",
              "  .colab-df-spinner {\n",
              "    border: 2px solid var(--fill-color);\n",
              "    border-color: transparent;\n",
              "    border-bottom-color: var(--fill-color);\n",
              "    animation:\n",
              "      spin 1s steps(1) infinite;\n",
              "  }\n",
              "\n",
              "  @keyframes spin {\n",
              "    0% {\n",
              "      border-color: transparent;\n",
              "      border-bottom-color: var(--fill-color);\n",
              "      border-left-color: var(--fill-color);\n",
              "    }\n",
              "    20% {\n",
              "      border-color: transparent;\n",
              "      border-left-color: var(--fill-color);\n",
              "      border-top-color: var(--fill-color);\n",
              "    }\n",
              "    30% {\n",
              "      border-color: transparent;\n",
              "      border-left-color: var(--fill-color);\n",
              "      border-top-color: var(--fill-color);\n",
              "      border-right-color: var(--fill-color);\n",
              "    }\n",
              "    40% {\n",
              "      border-color: transparent;\n",
              "      border-right-color: var(--fill-color);\n",
              "      border-top-color: var(--fill-color);\n",
              "    }\n",
              "    60% {\n",
              "      border-color: transparent;\n",
              "      border-right-color: var(--fill-color);\n",
              "    }\n",
              "    80% {\n",
              "      border-color: transparent;\n",
              "      border-right-color: var(--fill-color);\n",
              "      border-bottom-color: var(--fill-color);\n",
              "    }\n",
              "    90% {\n",
              "      border-color: transparent;\n",
              "      border-bottom-color: var(--fill-color);\n",
              "    }\n",
              "  }\n",
              "</style>\n",
              "\n",
              "  <script>\n",
              "    async function quickchart(key) {\n",
              "      const quickchartButtonEl =\n",
              "        document.querySelector('#' + key + ' button');\n",
              "      quickchartButtonEl.disabled = true;  // To prevent multiple clicks.\n",
              "      quickchartButtonEl.classList.add('colab-df-spinner');\n",
              "      try {\n",
              "        const charts = await google.colab.kernel.invokeFunction(\n",
              "            'suggestCharts', [key], {});\n",
              "      } catch (error) {\n",
              "        console.error('Error during call to suggestCharts:', error);\n",
              "      }\n",
              "      quickchartButtonEl.classList.remove('colab-df-spinner');\n",
              "      quickchartButtonEl.classList.add('colab-df-quickchart-complete');\n",
              "    }\n",
              "    (() => {\n",
              "      let quickchartButtonEl =\n",
              "        document.querySelector('#df-4105baa8-7da7-4f6f-9a77-ccbd93ce1d57 button');\n",
              "      quickchartButtonEl.style.display =\n",
              "        google.colab.kernel.accessAllowed ? 'block' : 'none';\n",
              "    })();\n",
              "  </script>\n",
              "</div>\n",
              "\n",
              "  <div id=\"id_1534f19c-e485-4d61-a77b-9983aa1eda25\">\n",
              "    <style>\n",
              "      .colab-df-generate {\n",
              "        background-color: #E8F0FE;\n",
              "        border: none;\n",
              "        border-radius: 50%;\n",
              "        cursor: pointer;\n",
              "        display: none;\n",
              "        fill: #1967D2;\n",
              "        height: 32px;\n",
              "        padding: 0 0 0 0;\n",
              "        width: 32px;\n",
              "      }\n",
              "\n",
              "      .colab-df-generate:hover {\n",
              "        background-color: #E2EBFA;\n",
              "        box-shadow: 0px 1px 2px rgba(60, 64, 67, 0.3), 0px 1px 3px 1px rgba(60, 64, 67, 0.15);\n",
              "        fill: #174EA6;\n",
              "      }\n",
              "\n",
              "      [theme=dark] .colab-df-generate {\n",
              "        background-color: #3B4455;\n",
              "        fill: #D2E3FC;\n",
              "      }\n",
              "\n",
              "      [theme=dark] .colab-df-generate:hover {\n",
              "        background-color: #434B5C;\n",
              "        box-shadow: 0px 1px 3px 1px rgba(0, 0, 0, 0.15);\n",
              "        filter: drop-shadow(0px 1px 2px rgba(0, 0, 0, 0.3));\n",
              "        fill: #FFFFFF;\n",
              "      }\n",
              "    </style>\n",
              "    <button class=\"colab-df-generate\" onclick=\"generateWithVariable('data')\"\n",
              "            title=\"Generate code using this dataframe.\"\n",
              "            style=\"display:none;\">\n",
              "\n",
              "  <svg xmlns=\"http://www.w3.org/2000/svg\" height=\"24px\"viewBox=\"0 0 24 24\"\n",
              "       width=\"24px\">\n",
              "    <path d=\"M7,19H8.4L18.45,9,17,7.55,7,17.6ZM5,21V16.75L18.45,3.32a2,2,0,0,1,2.83,0l1.4,1.43a1.91,1.91,0,0,1,.58,1.4,1.91,1.91,0,0,1-.58,1.4L9.25,21ZM18.45,9,17,7.55Zm-12,3A5.31,5.31,0,0,0,4.9,8.1,5.31,5.31,0,0,0,1,6.5,5.31,5.31,0,0,0,4.9,4.9,5.31,5.31,0,0,0,6.5,1,5.31,5.31,0,0,0,8.1,4.9,5.31,5.31,0,0,0,12,6.5,5.46,5.46,0,0,0,6.5,12Z\"/>\n",
              "  </svg>\n",
              "    </button>\n",
              "    <script>\n",
              "      (() => {\n",
              "      const buttonEl =\n",
              "        document.querySelector('#id_1534f19c-e485-4d61-a77b-9983aa1eda25 button.colab-df-generate');\n",
              "      buttonEl.style.display =\n",
              "        google.colab.kernel.accessAllowed ? 'block' : 'none';\n",
              "\n",
              "      buttonEl.onclick = () => {\n",
              "        google.colab.notebook.generateWithVariable('data');\n",
              "      }\n",
              "      })();\n",
              "    </script>\n",
              "  </div>\n",
              "\n",
              "    </div>\n",
              "  </div>\n"
            ],
            "application/vnd.google.colaboratory.intrinsic+json": {
              "type": "dataframe",
              "variable_name": "data",
              "summary": "{\n  \"name\": \"data\",\n  \"rows\": 823,\n  \"fields\": [\n    {\n      \"column\": \"brand\",\n      \"properties\": {\n        \"dtype\": \"category\",\n        \"num_unique_values\": 8,\n        \"samples\": [\n          \"Lenovo\",\n          \"DELL\",\n          \"ASUS\"\n        ],\n        \"semantic_type\": \"\",\n        \"description\": \"\"\n      }\n    },\n    {\n      \"column\": \"processor_brand\",\n      \"properties\": {\n        \"dtype\": \"category\",\n        \"num_unique_values\": 3,\n        \"samples\": [\n          \"Intel\",\n          \"AMD\",\n          \"M1\"\n        ],\n        \"semantic_type\": \"\",\n        \"description\": \"\"\n      }\n    },\n    {\n      \"column\": \"processor_name\",\n      \"properties\": {\n        \"dtype\": \"category\",\n        \"num_unique_values\": 11,\n        \"samples\": [\n          \"Core i9\",\n          \"Core i3\",\n          \"Ryzen 7\"\n        ],\n        \"semantic_type\": \"\",\n        \"description\": \"\"\n      }\n    },\n    {\n      \"column\": \"processor_gnrtn\",\n      \"properties\": {\n        \"dtype\": \"category\",\n        \"num_unique_values\": 8,\n        \"samples\": [\n          \"Not Available\",\n          \"9th\",\n          \"10th\"\n        ],\n        \"semantic_type\": \"\",\n        \"description\": \"\"\n      }\n    },\n    {\n      \"column\": \"ram_gb\",\n      \"properties\": {\n        \"dtype\": \"category\",\n        \"num_unique_values\": 4,\n        \"samples\": [\n          \"8 GB\",\n          \"32 GB\",\n          \"4 GB\"\n        ],\n        \"semantic_type\": \"\",\n        \"description\": \"\"\n      }\n    },\n    {\n      \"column\": \"ram_type\",\n      \"properties\": {\n        \"dtype\": \"category\",\n        \"num_unique_values\": 6,\n        \"samples\": [\n          \"DDR4\",\n          \"LPDDR4\",\n          \"LPDDR3\"\n        ],\n        \"semantic_type\": \"\",\n        \"description\": \"\"\n      }\n    },\n    {\n      \"column\": \"ssd\",\n      \"properties\": {\n        \"dtype\": \"category\",\n        \"num_unique_values\": 7,\n        \"samples\": [\n          \"0 GB\",\n          \"512 GB\",\n          \"2048 GB\"\n        ],\n        \"semantic_type\": \"\",\n        \"description\": \"\"\n      }\n    },\n    {\n      \"column\": \"hdd\",\n      \"properties\": {\n        \"dtype\": \"category\",\n        \"num_unique_values\": 4,\n        \"samples\": [\n          \"0 GB\",\n          \"2048 GB\",\n          \"1024 GB\"\n        ],\n        \"semantic_type\": \"\",\n        \"description\": \"\"\n      }\n    },\n    {\n      \"column\": \"os\",\n      \"properties\": {\n        \"dtype\": \"category\",\n        \"num_unique_values\": 3,\n        \"samples\": [\n          \"Windows\",\n          \"DOS\",\n          \"Mac\"\n        ],\n        \"semantic_type\": \"\",\n        \"description\": \"\"\n      }\n    },\n    {\n      \"column\": \"os_bit\",\n      \"properties\": {\n        \"dtype\": \"category\",\n        \"num_unique_values\": 2,\n        \"samples\": [\n          \"32-bit\",\n          \"64-bit\"\n        ],\n        \"semantic_type\": \"\",\n        \"description\": \"\"\n      }\n    },\n    {\n      \"column\": \"graphic_card_gb\",\n      \"properties\": {\n        \"dtype\": \"category\",\n        \"num_unique_values\": 5,\n        \"samples\": [\n          \"2 GB\",\n          \"8 GB\"\n        ],\n        \"semantic_type\": \"\",\n        \"description\": \"\"\n      }\n    },\n    {\n      \"column\": \"weight\",\n      \"properties\": {\n        \"dtype\": \"category\",\n        \"num_unique_values\": 3,\n        \"samples\": [\n          \"Casual\",\n          \"ThinNlight\"\n        ],\n        \"semantic_type\": \"\",\n        \"description\": \"\"\n      }\n    },\n    {\n      \"column\": \"warranty\",\n      \"properties\": {\n        \"dtype\": \"category\",\n        \"num_unique_values\": 4,\n        \"samples\": [\n          \"1 year\",\n          \"3 years\"\n        ],\n        \"semantic_type\": \"\",\n        \"description\": \"\"\n      }\n    },\n    {\n      \"column\": \"Touchscreen\",\n      \"properties\": {\n        \"dtype\": \"category\",\n        \"num_unique_values\": 2,\n        \"samples\": [\n          \"Yes\",\n          \"No\"\n        ],\n        \"semantic_type\": \"\",\n        \"description\": \"\"\n      }\n    },\n    {\n      \"column\": \"msoffice\",\n      \"properties\": {\n        \"dtype\": \"category\",\n        \"num_unique_values\": 2,\n        \"samples\": [\n          \"Yes\",\n          \"No\"\n        ],\n        \"semantic_type\": \"\",\n        \"description\": \"\"\n      }\n    },\n    {\n      \"column\": \"Price\",\n      \"properties\": {\n        \"dtype\": \"number\",\n        \"std\": 45101,\n        \"min\": 16990,\n        \"max\": 441990,\n        \"num_unique_values\": 405,\n        \"samples\": [\n          44890,\n          86999\n        ],\n        \"semantic_type\": \"\",\n        \"description\": \"\"\n      }\n    },\n    {\n      \"column\": \"rating\",\n      \"properties\": {\n        \"dtype\": \"category\",\n        \"num_unique_values\": 5,\n        \"samples\": [\n          \"3 stars\",\n          \"1 star\"\n        ],\n        \"semantic_type\": \"\",\n        \"description\": \"\"\n      }\n    },\n    {\n      \"column\": \"Number of Ratings\",\n      \"properties\": {\n        \"dtype\": \"number\",\n        \"std\": 1047,\n        \"min\": 0,\n        \"max\": 15279,\n        \"num_unique_values\": 282,\n        \"samples\": [\n          15,\n          527\n        ],\n        \"semantic_type\": \"\",\n        \"description\": \"\"\n      }\n    },\n    {\n      \"column\": \"Number of Reviews\",\n      \"properties\": {\n        \"dtype\": \"number\",\n        \"std\": 121,\n        \"min\": 0,\n        \"max\": 1947,\n        \"num_unique_values\": 135,\n        \"samples\": [\n          48,\n          35\n        ],\n        \"semantic_type\": \"\",\n        \"description\": \"\"\n      }\n    }\n  ]\n}"
            }
          },
          "metadata": {},
          "execution_count": 3
        }
      ]
    },
    {
      "cell_type": "markdown",
      "source": [
        "im gonna check the missing values"
      ],
      "metadata": {
        "id": "BnkIDAQRuDj2"
      }
    },
    {
      "cell_type": "code",
      "source": [
        "data.isnull().sum()"
      ],
      "metadata": {
        "colab": {
          "base_uri": "https://localhost:8080/",
          "height": 680
        },
        "id": "WuwhDxsyuAMh",
        "outputId": "244c5925-5719-4a1e-ad85-daad92b7692a"
      },
      "execution_count": null,
      "outputs": [
        {
          "output_type": "execute_result",
          "data": {
            "text/plain": [
              "brand                0\n",
              "processor_brand      0\n",
              "processor_name       0\n",
              "processor_gnrtn      0\n",
              "ram_gb               0\n",
              "ram_type             0\n",
              "ssd                  0\n",
              "hdd                  0\n",
              "os                   0\n",
              "os_bit               0\n",
              "graphic_card_gb      0\n",
              "weight               0\n",
              "warranty             0\n",
              "Touchscreen          0\n",
              "msoffice             0\n",
              "Price                0\n",
              "rating               0\n",
              "Number of Ratings    0\n",
              "Number of Reviews    0\n",
              "dtype: int64"
            ],
            "text/html": [
              "<div>\n",
              "<style scoped>\n",
              "    .dataframe tbody tr th:only-of-type {\n",
              "        vertical-align: middle;\n",
              "    }\n",
              "\n",
              "    .dataframe tbody tr th {\n",
              "        vertical-align: top;\n",
              "    }\n",
              "\n",
              "    .dataframe thead th {\n",
              "        text-align: right;\n",
              "    }\n",
              "</style>\n",
              "<table border=\"1\" class=\"dataframe\">\n",
              "  <thead>\n",
              "    <tr style=\"text-align: right;\">\n",
              "      <th></th>\n",
              "      <th>0</th>\n",
              "    </tr>\n",
              "  </thead>\n",
              "  <tbody>\n",
              "    <tr>\n",
              "      <th>brand</th>\n",
              "      <td>0</td>\n",
              "    </tr>\n",
              "    <tr>\n",
              "      <th>processor_brand</th>\n",
              "      <td>0</td>\n",
              "    </tr>\n",
              "    <tr>\n",
              "      <th>processor_name</th>\n",
              "      <td>0</td>\n",
              "    </tr>\n",
              "    <tr>\n",
              "      <th>processor_gnrtn</th>\n",
              "      <td>0</td>\n",
              "    </tr>\n",
              "    <tr>\n",
              "      <th>ram_gb</th>\n",
              "      <td>0</td>\n",
              "    </tr>\n",
              "    <tr>\n",
              "      <th>ram_type</th>\n",
              "      <td>0</td>\n",
              "    </tr>\n",
              "    <tr>\n",
              "      <th>ssd</th>\n",
              "      <td>0</td>\n",
              "    </tr>\n",
              "    <tr>\n",
              "      <th>hdd</th>\n",
              "      <td>0</td>\n",
              "    </tr>\n",
              "    <tr>\n",
              "      <th>os</th>\n",
              "      <td>0</td>\n",
              "    </tr>\n",
              "    <tr>\n",
              "      <th>os_bit</th>\n",
              "      <td>0</td>\n",
              "    </tr>\n",
              "    <tr>\n",
              "      <th>graphic_card_gb</th>\n",
              "      <td>0</td>\n",
              "    </tr>\n",
              "    <tr>\n",
              "      <th>weight</th>\n",
              "      <td>0</td>\n",
              "    </tr>\n",
              "    <tr>\n",
              "      <th>warranty</th>\n",
              "      <td>0</td>\n",
              "    </tr>\n",
              "    <tr>\n",
              "      <th>Touchscreen</th>\n",
              "      <td>0</td>\n",
              "    </tr>\n",
              "    <tr>\n",
              "      <th>msoffice</th>\n",
              "      <td>0</td>\n",
              "    </tr>\n",
              "    <tr>\n",
              "      <th>Price</th>\n",
              "      <td>0</td>\n",
              "    </tr>\n",
              "    <tr>\n",
              "      <th>rating</th>\n",
              "      <td>0</td>\n",
              "    </tr>\n",
              "    <tr>\n",
              "      <th>Number of Ratings</th>\n",
              "      <td>0</td>\n",
              "    </tr>\n",
              "    <tr>\n",
              "      <th>Number of Reviews</th>\n",
              "      <td>0</td>\n",
              "    </tr>\n",
              "  </tbody>\n",
              "</table>\n",
              "</div><br><label><b>dtype:</b> int64</label>"
            ]
          },
          "metadata": {},
          "execution_count": 4
        }
      ]
    },
    {
      "cell_type": "code",
      "source": [
        "data.duplicated().sum()"
      ],
      "metadata": {
        "colab": {
          "base_uri": "https://localhost:8080/"
        },
        "id": "oenOhVaeuH7_",
        "outputId": "6726e8ea-2283-466d-fe23-ca59b133b9c1"
      },
      "execution_count": null,
      "outputs": [
        {
          "output_type": "execute_result",
          "data": {
            "text/plain": [
              "np.int64(21)"
            ]
          },
          "metadata": {},
          "execution_count": 5
        }
      ]
    },
    {
      "cell_type": "code",
      "source": [
        "\n",
        "data.drop_duplicates(inplace=True)\n",
        "data.duplicated().sum()\n"
      ],
      "metadata": {
        "colab": {
          "base_uri": "https://localhost:8080/"
        },
        "id": "jyMCNLr7uUIm",
        "outputId": "2551e6aa-a9a7-4b47-e747-6a6945ca1ad0"
      },
      "execution_count": null,
      "outputs": [
        {
          "output_type": "execute_result",
          "data": {
            "text/plain": [
              "np.int64(0)"
            ]
          },
          "metadata": {},
          "execution_count": 6
        }
      ]
    },
    {
      "cell_type": "markdown",
      "source": [
        "encoding categorical features"
      ],
      "metadata": {
        "id": "qT6KDNUkuXVm"
      }
    },
    {
      "cell_type": "code",
      "source": [
        "for col in data.select_dtypes(include='object').columns:\n",
        "  data[col] = LabelEncoder().fit_transform(data[col])"
      ],
      "metadata": {
        "id": "afnDzfEUua-r"
      },
      "execution_count": null,
      "outputs": []
    },
    {
      "cell_type": "markdown",
      "source": [
        "separating the features and target variable"
      ],
      "metadata": {
        "id": "qVajNswouxDf"
      }
    },
    {
      "cell_type": "code",
      "source": [
        "X = data.drop('Price', axis=1)\n",
        "y = data['Price']"
      ],
      "metadata": {
        "id": "1StWRzv1uv3P"
      },
      "execution_count": null,
      "outputs": []
    },
    {
      "cell_type": "markdown",
      "source": [
        "standardizng features"
      ],
      "metadata": {
        "id": "BuI53aeMu8fh"
      }
    },
    {
      "cell_type": "code",
      "source": [
        "from sklearn.preprocessing import StandardScaler\n",
        "scaler = StandardScaler()\n",
        "X = scaler.fit_transform(X)"
      ],
      "metadata": {
        "id": "AeXVgAU1u7yb"
      },
      "execution_count": null,
      "outputs": []
    },
    {
      "cell_type": "markdown",
      "source": [
        "spliting data into the training and test sets"
      ],
      "metadata": {
        "id": "fToua_xnvNMI"
      }
    },
    {
      "cell_type": "code",
      "source": [
        "X_train, X_test, y_train, y_test = train_test_split(X, y, test_size=0.2, random_state=42)"
      ],
      "metadata": {
        "id": "ltTaY2zQu6IP"
      },
      "execution_count": null,
      "outputs": []
    },
    {
      "cell_type": "markdown",
      "source": [
        "hyperpaarameter tuning"
      ],
      "metadata": {
        "id": "6sWx1LPUvbdr"
      }
    },
    {
      "cell_type": "code",
      "source": [
        "param_dist = {'C': np.logspace(-2, 2, 5), 'epsilon': np.logspace(-3, 0, 4), 'kernel': ['rbf', 'linear']}\n",
        "random_search = RandomizedSearchCV(SVR(), param_dist, n_iter=10, cv=5)\n",
        "random_search.fit(X_train, y_train)\n",
        "svm_regressor = random_search.best_estimator_"
      ],
      "metadata": {
        "id": "LAF_zkD5vTKQ"
      },
      "execution_count": null,
      "outputs": []
    },
    {
      "cell_type": "markdown",
      "source": [
        "making predictions"
      ],
      "metadata": {
        "id": "oavvCAczvlgj"
      }
    },
    {
      "cell_type": "code",
      "source": [
        "y_pred = svm_regressor.predict(X_test)"
      ],
      "metadata": {
        "id": "atR0Znd5vjcU"
      },
      "execution_count": null,
      "outputs": []
    },
    {
      "cell_type": "markdown",
      "source": [
        "evaluations"
      ],
      "metadata": {
        "id": "81wv1Ue_vt8V"
      }
    },
    {
      "cell_type": "code",
      "source": [
        "mse = mean_squared_error(y_test, y_pred)\n",
        "print(\"Mean Squared Error:\", mse)\n",
        "print(\"R^2 Score:\", svm_regressor.score(X_test, y_test))\n",
        "print(\"Best Parameters:\", random_search.best_params_)\n",
        "rmse = np.sqrt(mse)\n",
        "print(\"Root Mean Squared Error:\", rmse)"
      ],
      "metadata": {
        "colab": {
          "base_uri": "https://localhost:8080/"
        },
        "id": "pI76RWAsvtHx",
        "outputId": "5c741b0f-ee54-476f-a94a-56d1bac578af"
      },
      "execution_count": null,
      "outputs": [
        {
          "output_type": "stream",
          "name": "stdout",
          "text": [
            "Mean Squared Error: 1231680068.2277708\n",
            "R^2 Score: 0.42100375036290816\n",
            "Best Parameters: {'kernel': 'linear', 'epsilon': np.float64(0.001), 'C': np.float64(100.0)}\n",
            "Root Mean Squared Error: 35095.2998025059\n"
          ]
        }
      ]
    },
    {
      "cell_type": "code",
      "source": [
        "import matplotlib.pyplot as plt\n",
        "plt.figure(figsize=(10, 6))\n",
        "plt.scatter(y_test, y_pred, alpha=0.5)\n",
        "plt.plot([y_test.min(), y_test.max()], [y_test.min(), y_test.max()], 'k--', lw=2)\n",
        "plt.xlabel('Actual Prices')\n",
        "plt.ylabel('Predicted Prices')\n",
        "plt.title('Laptop Price Prediction')\n",
        "plt.show()"
      ],
      "metadata": {
        "colab": {
          "base_uri": "https://localhost:8080/",
          "height": 403
        },
        "id": "PBuXDtivxFiA",
        "outputId": "c0080a12-ceb5-4b45-b6c3-493ba585d0b8"
      },
      "execution_count": 25,
      "outputs": [
        {
          "output_type": "display_data",
          "data": {
            "text/plain": [
              "<Figure size 1000x600 with 1 Axes>"
            ],
            "image/png": "[encoded data removed]"
          },
          "metadata": {}
        }
      ]
    },
    {
      "cell_type": "code",
      "source": [],
      "metadata": {
        "id": "jv3mI4ImyP3x"
      },
      "execution_count": null,
      "outputs": []
    }
  ]
}